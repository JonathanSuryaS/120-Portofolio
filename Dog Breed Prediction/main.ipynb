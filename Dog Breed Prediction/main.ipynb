{
 "cells": [
  {
   "cell_type": "markdown",
   "metadata": {},
   "source": [
    "# Libraries"
   ]
  },
  {
   "cell_type": "code",
   "execution_count": 4,
   "metadata": {},
   "outputs": [
    {
     "name": "stdout",
     "output_type": "stream",
     "text": [
      "Collecting google-colab\n",
      "  Using cached google-colab-1.0.0.tar.gz (72 kB)\n",
      "  Preparing metadata (setup.py): started\n",
      "  Preparing metadata (setup.py): finished with status 'done'\n",
      "Collecting google-auth~=1.4.0 (from google-colab)\n",
      "  Using cached google_auth-1.4.2-py2.py3-none-any.whl.metadata (3.0 kB)\n",
      "Collecting ipykernel~=4.6.0 (from google-colab)\n",
      "  Using cached ipykernel-4.6.1-py3-none-any.whl.metadata (981 bytes)\n",
      "Collecting ipython~=5.5.0 (from google-colab)\n",
      "  Using cached ipython-5.5.0-py3-none-any.whl.metadata (4.3 kB)\n",
      "Collecting notebook~=5.2.0 (from google-colab)\n",
      "  Using cached notebook-5.2.2-py2.py3-none-any.whl.metadata (1.8 kB)\n",
      "Collecting six~=1.12.0 (from google-colab)\n",
      "  Using cached six-1.12.0-py2.py3-none-any.whl.metadata (1.9 kB)\n",
      "Collecting pandas~=0.24.0 (from google-colab)\n",
      "  Using cached pandas-0.24.2.tar.gz (11.8 MB)\n",
      "  Preparing metadata (setup.py): started\n",
      "  Preparing metadata (setup.py): finished with status 'error'\n",
      "Note: you may need to restart the kernel to use updated packages.\n"
     ]
    },
    {
     "name": "stderr",
     "output_type": "stream",
     "text": [
      "  error: subprocess-exited-with-error\n",
      "  \n",
      "  × python setup.py egg_info did not run successfully.\n",
      "  │ exit code: 1\n",
      "  ╰─> [15 lines of output]\n",
      "      C:\\Users\\user\\AppData\\Local\\Temp\\pip-install-n_y2sje7\\pandas_a78ac3a159d34a8592bf283d67b55f62\\setup.py:12: DeprecationWarning: pkg_resources is deprecated as an API. See https://setuptools.pypa.io/en/latest/pkg_resources.html\n",
      "        import pkg_resources\n",
      "      c:\\Users\\user\\anaconda3\\Lib\\site-packages\\setuptools\\__init__.py:80: _DeprecatedInstaller: setuptools.installer and fetch_build_eggs are deprecated.\n",
      "      !!\n",
      "      \n",
      "              ********************************************************************************\n",
      "              Requirements should be satisfied by a PEP 517 installer.\n",
      "              If you are using pip, you can try `pip install --use-pep517`.\n",
      "              ********************************************************************************\n",
      "      \n",
      "      !!\n",
      "        dist.fetch_build_eggs(dist.setup_requires)\n",
      "      error in pandas setup command: 'install_requires' must be a string or list of strings containing valid project/version requirement specifiers; Expected end or semicolon (after version specifier)\n",
      "          pytz >= 2011k\n",
      "               ~~~~~~~^\n",
      "      [end of output]\n",
      "  \n",
      "  note: This error originates from a subprocess, and is likely not a problem with pip.\n",
      "error: metadata-generation-failed\n",
      "\n",
      "× Encountered error while generating package metadata.\n",
      "╰─> See above for output.\n",
      "\n",
      "note: This is an issue with the package mentioned above, not pip.\n",
      "hint: See above for details.\n"
     ]
    }
   ],
   "source": [
    "pip install google-colab"
   ]
  }
 ],
 "metadata": {
  "kernelspec": {
   "display_name": "base",
   "language": "python",
   "name": "python3"
  },
  "language_info": {
   "codemirror_mode": {
    "name": "ipython",
    "version": 3
   },
   "file_extension": ".py",
   "mimetype": "text/x-python",
   "name": "python",
   "nbconvert_exporter": "python",
   "pygments_lexer": "ipython3",
   "version": "3.11.7"
  }
 },
 "nbformat": 4,
 "nbformat_minor": 2
}
